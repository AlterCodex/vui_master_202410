{
 "cells": [
  {
   "metadata": {},
   "cell_type": "markdown",
   "source": [
    "# This is a sample Jupyter Notebook\n",
    "\n",
    "Below is an example of a code cell. \n",
    "Put your cursor into the cell and press Shift+Enter to execute it and select the next one, or click !here goes the icon of the corresponding button in the gutter! button.\n",
    "To debug a cell, press Alt+Shift+Enter, or click !here goes the icon of the corresponding button in the gutter! button.\n",
    "\n",
    "Press Double Shift to search everywhere for classes, files, tool windows, actions, and settings.\n",
    "\n",
    "To learn more about Jupyter Notebooks in PyCharm, see [help](https://www.jetbrains.com/help/pycharm/jupyter-notebook-support.html).\n",
    "For an overview of PyCharm, go to Help -> Learn IDE features or refer to [our documentation](https://www.jetbrains.com/help/pycharm/getting-started.html)."
   ],
   "id": "8a77807f92f26ee"
  },
  {
   "metadata": {
    "ExecuteTime": {
     "end_time": "2024-08-31T11:45:52.330768Z",
     "start_time": "2024-08-31T11:45:50.587Z"
    }
   },
   "cell_type": "code",
   "source": [
    "import pandas as pd\n",
    "data= pd.read_csv(\"file:data/datos_inf.csv\")\n",
    "varianzas=data.var()\n",
    "varianzas[\"C1\"]/varianzas[\"C2\"]\n"
   ],
   "id": "fbc121e30a2defb3",
   "outputs": [
    {
     "data": {
      "text/plain": [
       "0.5064404262036674"
      ]
     },
     "execution_count": 1,
     "metadata": {},
     "output_type": "execute_result"
    }
   ],
   "execution_count": 1
  },
  {
   "metadata": {
    "ExecuteTime": {
     "end_time": "2024-08-24T17:14:20.499103Z",
     "start_time": "2024-08-24T17:14:19.892621Z"
    }
   },
   "cell_type": "code",
   "source": [
    "import pandas as pd\n",
    "import matplotlib.pyplot as plt\n",
    "data= pd.read_csv(\"file:data/datos_inf.csv\")\n",
    "dataX=data['C1']\n",
    "dataY=data['C2']\n",
    "plt.scatter(dataX,dataY)\n",
    "\n",
    "\n"
   ],
   "id": "63d1198dada7c1d7",
   "outputs": [
    {
     "data": {
      "text/plain": [
       "<matplotlib.collections.PathCollection at 0x18400af0bf0>"
      ]
     },
     "execution_count": 35,
     "metadata": {},
     "output_type": "execute_result"
    },
    {
     "data": {
      "text/plain": [
       "<Figure size 640x480 with 1 Axes>"
      ],
      "image/png": "[encoded data removed]"
     },
     "metadata": {},
     "output_type": "display_data"
    }
   ],
   "execution_count": 35
  },
  {
   "metadata": {
    "ExecuteTime": {
     "end_time": "2024-08-24T17:14:20.512345Z",
     "start_time": "2024-08-24T17:14:20.503114Z"
    }
   },
   "cell_type": "code",
   "source": "data.cov().loc['C2','C1']",
   "id": "d7f473feb17defe3",
   "outputs": [
    {
     "data": {
      "text/plain": [
       "-22.73831834210527"
      ]
     },
     "execution_count": 36,
     "metadata": {},
     "output_type": "execute_result"
    }
   ],
   "execution_count": 36
  },
  {
   "metadata": {
    "ExecuteTime": {
     "end_time": "2024-08-24T17:14:36.954607Z",
     "start_time": "2024-08-24T17:14:36.770752Z"
    }
   },
   "cell_type": "code",
   "source": [
    "from sklearn import linear_model\n",
    "from sklearn.metrics import mean_squared_error, r2_score\n",
    "# Creo un modelo de regresión lineal\n",
    "modelo = linear_model.LinearRegression()\n",
    " \n",
    "\n",
    "X=dataX.to_numpy()\n",
    "X=X.reshape((20,1))\n",
    "Y= dataY.to_numpy()\n",
    "Y=Y.reshape((20,1))\n",
    "# Entreno el modelo con los datos (X,Y)\n",
    "modelo.fit(X,Y)\n",
    "y_pred = modelo.predict(dataX.to_numpy().reshape((20,1)))\n",
    "plt.scatter(dataX,dataY)\n",
    "plt.plot(dataX, y_pred, color='red')\n",
    "plt.show()\n"
   ],
   "id": "caf1ec28c2adb9a8",
   "outputs": [
    {
     "data": {
      "text/plain": [
       "<Figure size 640x480 with 1 Axes>"
      ],
      "image/png": "[encoded data removed]"
     },
     "metadata": {},
     "output_type": "display_data"
    }
   ],
   "execution_count": 38
  },
  {
   "metadata": {
    "ExecuteTime": {
     "end_time": "2024-08-31T11:47:46.711312Z",
     "start_time": "2024-08-31T11:47:46.704427Z"
    }
   },
   "cell_type": "code",
   "source": "varianzas[\"C2\"]",
   "id": "b436ac68945c5a25",
   "outputs": [
    {
     "data": {
      "text/plain": [
       "66.11329415789474"
      ]
     },
     "execution_count": 5,
     "metadata": {},
     "output_type": "execute_result"
    }
   ],
   "execution_count": 5
  },
  {
   "metadata": {
    "ExecuteTime": {
     "end_time": "2024-08-31T11:46:25.801024Z",
     "start_time": "2024-08-31T11:46:25.782427Z"
    }
   },
   "cell_type": "code",
   "source": "data",
   "id": "e6829e55d2123685",
   "outputs": [
    {
     "data": {
      "text/plain": [
       "        C1      C2\n",
       "0   80.243  61.824\n",
       "1   66.473  80.862\n",
       "2   70.648  75.058\n",
       "3   74.796  68.798\n",
       "4   71.375  67.735\n",
       "5   64.975  83.870\n",
       "6   66.627  83.921\n",
       "7   80.583  70.704\n",
       "8   74.979  62.376\n",
       "9   61.009  73.762\n",
       "10  67.685  79.921\n",
       "11  69.506  84.771\n",
       "12  68.975  60.423\n",
       "13  63.194  71.541\n",
       "14  67.643  74.301\n",
       "15  77.474  62.986\n",
       "16  62.285  81.219\n",
       "17  72.175  79.785\n",
       "18  77.961  77.200\n",
       "19  71.537  83.693"
      ],
      "text/html": [
       "<div>\n",
       "<style scoped>\n",
       "    .dataframe tbody tr th:only-of-type {\n",
       "        vertical-align: middle;\n",
       "    }\n",
       "\n",
       "    .dataframe tbody tr th {\n",
       "        vertical-align: top;\n",
       "    }\n",
       "\n",
       "    .dataframe thead th {\n",
       "        text-align: right;\n",
       "    }\n",
       "</style>\n",
       "<table border=\"1\" class=\"dataframe\">\n",
       "  <thead>\n",
       "    <tr style=\"text-align: right;\">\n",
       "      <th></th>\n",
       "      <th>C1</th>\n",
       "      <th>C2</th>\n",
       "    </tr>\n",
       "  </thead>\n",
       "  <tbody>\n",
       "    <tr>\n",
       "      <th>0</th>\n",
       "      <td>80.243</td>\n",
       "      <td>61.824</td>\n",
       "    </tr>\n",
       "    <tr>\n",
       "      <th>1</th>\n",
       "      <td>66.473</td>\n",
       "      <td>80.862</td>\n",
       "    </tr>\n",
       "    <tr>\n",
       "      <th>2</th>\n",
       "      <td>70.648</td>\n",
       "      <td>75.058</td>\n",
       "    </tr>\n",
       "    <tr>\n",
       "      <th>3</th>\n",
       "      <td>74.796</td>\n",
       "      <td>68.798</td>\n",
       "    </tr>\n",
       "    <tr>\n",
       "      <th>4</th>\n",
       "      <td>71.375</td>\n",
       "      <td>67.735</td>\n",
       "    </tr>\n",
       "    <tr>\n",
       "      <th>5</th>\n",
       "      <td>64.975</td>\n",
       "      <td>83.870</td>\n",
       "    </tr>\n",
       "    <tr>\n",
       "      <th>6</th>\n",
       "      <td>66.627</td>\n",
       "      <td>83.921</td>\n",
       "    </tr>\n",
       "    <tr>\n",
       "      <th>7</th>\n",
       "      <td>80.583</td>\n",
       "      <td>70.704</td>\n",
       "    </tr>\n",
       "    <tr>\n",
       "      <th>8</th>\n",
       "      <td>74.979</td>\n",
       "      <td>62.376</td>\n",
       "    </tr>\n",
       "    <tr>\n",
       "      <th>9</th>\n",
       "      <td>61.009</td>\n",
       "      <td>73.762</td>\n",
       "    </tr>\n",
       "    <tr>\n",
       "      <th>10</th>\n",
       "      <td>67.685</td>\n",
       "      <td>79.921</td>\n",
       "    </tr>\n",
       "    <tr>\n",
       "      <th>11</th>\n",
       "      <td>69.506</td>\n",
       "      <td>84.771</td>\n",
       "    </tr>\n",
       "    <tr>\n",
       "      <th>12</th>\n",
       "      <td>68.975</td>\n",
       "      <td>60.423</td>\n",
       "    </tr>\n",
       "    <tr>\n",
       "      <th>13</th>\n",
       "      <td>63.194</td>\n",
       "      <td>71.541</td>\n",
       "    </tr>\n",
       "    <tr>\n",
       "      <th>14</th>\n",
       "      <td>67.643</td>\n",
       "      <td>74.301</td>\n",
       "    </tr>\n",
       "    <tr>\n",
       "      <th>15</th>\n",
       "      <td>77.474</td>\n",
       "      <td>62.986</td>\n",
       "    </tr>\n",
       "    <tr>\n",
       "      <th>16</th>\n",
       "      <td>62.285</td>\n",
       "      <td>81.219</td>\n",
       "    </tr>\n",
       "    <tr>\n",
       "      <th>17</th>\n",
       "      <td>72.175</td>\n",
       "      <td>79.785</td>\n",
       "    </tr>\n",
       "    <tr>\n",
       "      <th>18</th>\n",
       "      <td>77.961</td>\n",
       "      <td>77.200</td>\n",
       "    </tr>\n",
       "    <tr>\n",
       "      <th>19</th>\n",
       "      <td>71.537</td>\n",
       "      <td>83.693</td>\n",
       "    </tr>\n",
       "  </tbody>\n",
       "</table>\n",
       "</div>"
      ]
     },
     "execution_count": 3,
     "metadata": {},
     "output_type": "execute_result"
    }
   ],
   "execution_count": 3
  },
  {
   "metadata": {
    "ExecuteTime": {
     "end_time": "2024-08-31T13:42:18.873536Z",
     "start_time": "2024-08-31T13:42:18.607078Z"
    }
   },
   "cell_type": "code",
   "source": [
    "import pandas as pd\n",
    "import matplotlib.pyplot as plt\n",
    "data= pd.read_csv(\"file:data/datos_inf.csv\")\n",
    "dataX=data['C1']\n",
    "dataY=data['C2']\n",
    "plt.scatter(dataY,dataX)\n",
    "\n"
   ],
   "id": "d9ed896a51d01c11",
   "outputs": [
    {
     "data": {
      "text/plain": [
       "<matplotlib.collections.PathCollection at 0x1c0049d8380>"
      ]
     },
     "execution_count": 7,
     "metadata": {},
     "output_type": "execute_result"
    },
    {
     "data": {
      "text/plain": [
       "<Figure size 640x480 with 1 Axes>"
      ],
      "image/png": "[encoded data removed]"
     },
     "metadata": {},
     "output_type": "display_data"
    }
   ],
   "execution_count": 7
  },
  {
   "metadata": {
    "ExecuteTime": {
     "end_time": "2024-08-31T13:58:38.987614Z",
     "start_time": "2024-08-31T13:58:38.762036Z"
    }
   },
   "cell_type": "code",
   "source": [
    "from sklearn import linear_model\n",
    "from sklearn.metrics import mean_squared_error, r2_score\n",
    "# Creo un modelo de regresión lineal\n",
    "modelo = linear_model.LinearRegression()\n",
    " \n",
    "\n",
    "X=dataX.to_numpy()\n",
    "X=X.reshape((20,1))\n",
    "Y= dataY.to_numpy()\n",
    "Y=Y.reshape((20,1))\n",
    "# Entreno el modelo con los datos (X,Y)\n",
    "modelo.fit(Y,X)\n",
    "x_pred = modelo.predict(dataY.to_numpy().reshape((20,1)))\n",
    "plt.scatter(dataY,dataX)\n",
    "plt.plot(dataY, x_pred, color='red')\n",
    "plt.show()\n"
   ],
   "id": "a84dd804d5495df5",
   "outputs": [
    {
     "data": {
      "text/plain": [
       "<Figure size 640x480 with 1 Axes>"
      ],
      "image/png": "[encoded data removed]"
     },
     "metadata": {},
     "output_type": "display_data"
    }
   ],
   "execution_count": 10
  },
  {
   "metadata": {},
   "cell_type": "code",
   "outputs": [],
   "execution_count": null,
   "source": "",
   "id": "d8ea17768393664b"
  }
 ],
 "metadata": {
  "kernelspec": {
   "display_name": "Python 3",
   "language": "python",
   "name": "python3"
  },
  "language_info": {
   "codemirror_mode": {
    "name": "ipython",
    "version": 2
   },
   "file_extension": ".py",
   "mimetype": "text/x-python",
   "name": "python",
   "nbconvert_exporter": "python",
   "pygments_lexer": "ipython2",
   "version": "2.7.6"
  }
 },
 "nbformat": 4,
 "nbformat_minor": 5
}
