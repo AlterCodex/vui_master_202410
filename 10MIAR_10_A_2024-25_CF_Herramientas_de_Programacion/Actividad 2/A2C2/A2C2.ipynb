{
 "cells": [
  {
   "cell_type": "code",
   "id": "initial_id",
   "metadata": {
    "collapsed": true,
    "ExecuteTime": {
     "end_time": "2024-07-13T16:53:42.923049Z",
     "start_time": "2024-07-13T16:53:42.913561Z"
    }
   },
   "source": [
    "def dpar(M):\n",
    "    res={}\n",
    "    for i in M:\n",
    "        if i %2 == 0:\n",
    "            res[i]= 1 if not i in res else res[i]+1\n",
    "    return  res\n",
    "M = [12, 19, 19, 18, 18, 16, 18, 13, 19, 18, 12, 18, 11, 20, 14, 14, 20, 20, 20, 16, 13, 15, 19, 14, 12]\n",
    "b = dpar(M)\n",
    "#print(b)\n",
    "assert b =={12: 3, 18: 5, 16: 2, 20: 4, 14: 3}\n"
   ],
   "outputs": [
    {
     "name": "stdout",
     "output_type": "stream",
     "text": [
      "{12: 3, 18: 5, 16: 2, 20: 4, 14: 3}\n"
     ]
    }
   ],
   "execution_count": 12
  },
  {
   "metadata": {
    "ExecuteTime": {
     "end_time": "2024-07-13T16:54:12.454637Z",
     "start_time": "2024-07-13T16:54:12.444502Z"
    }
   },
   "cell_type": "code",
   "source": [
    "lst_ciudad = [['Londres', 3.4, 6.3, 10.5, 6.8], ['Oslo', -3.8, -5.0, 5.1, 4.2], \n",
    " ['Berlin', 7.5, 4.1, 12.3, 13.0], ['Málaga', 14.7, 12.3, 19.5, 18.4]]\n",
    "def TempMaxMin(lst):\n",
    "    return {i[0]:[max(i[1:]), min(i[1:]) ] for i in lst_ciudad}    \n",
    "M= TempMaxMin(lst_ciudad)\n",
    "#print(M)\n",
    "assert  M == {'Berlin': [13.0, 4.1], 'Londres': [10.5, 3.4],  'Málaga': [19.5, 12.3], 'Oslo': [5.1, -5.0]}"
   ],
   "id": "da2f7332ee4a986d",
   "outputs": [
    {
     "name": "stdout",
     "output_type": "stream",
     "text": [
      "{'Londres': [10.5, 3.4], 'Oslo': [5.1, -5.0], 'Berlin': [13.0, 4.1], 'Málaga': [19.5, 12.3]}\n"
     ]
    }
   ],
   "execution_count": 15
  },
  {
   "metadata": {
    "ExecuteTime": {
     "end_time": "2024-07-13T17:03:08.932860Z",
     "start_time": "2024-07-13T17:03:08.924446Z"
    }
   },
   "cell_type": "code",
   "source": [
    "def PersMayTemp(dPersC, dCiudT):\n",
    "    result =[]\n",
    "    for key in dPersC:\n",
    "        if dCiudT[dPersC[key]] < 0:\n",
    "            result.append(key)\n",
    "    result.sort()\n",
    "    return result\n",
    "\n",
    "dCi = {'Manchester': 1.1, 'Madrid': -8.9, 'Gava': 4,'Pobla de Segur': -5.6, 'Lleida': -3.2, 'Elche': 2.1,  'Burgos': -6.0, 'Sant Boi': 4.5}\n",
    "dPe = {'Pepe': 'Manchester', 'Lionel': 'Gava', 'Mike': 'Sant Boi',  'Puyol': 'Pobla de Segur', 'Jaime': 'Elche', 'Sergi': 'Lleida', 'Ernesto': 'Madrid', 'Carlos': 'Burgos'}\n",
    "res= PersMayTemp(dPe, dCi)\n",
    "#print(res)\n",
    "assert res == ['Carlos', 'Ernesto', 'Puyol', 'Sergi']"
   ],
   "id": "cddc530f74993882",
   "outputs": [
    {
     "name": "stdout",
     "output_type": "stream",
     "text": [
      "['Carlos', 'Ernesto', 'Puyol', 'Sergi']\n"
     ]
    }
   ],
   "execution_count": 20
  },
  {
   "metadata": {
    "ExecuteTime": {
     "end_time": "2024-07-13T17:08:35.310912Z",
     "start_time": "2024-07-13T17:08:35.302337Z"
    }
   },
   "cell_type": "code",
   "source": [
    "def lst_hiper(dicc, edad):\n",
    "    res = [k for k in dicc if dicc[k][0]<edad and (dicc[k][1]>= 140 or dicc[k][2]>=90) ]\n",
    "    res.sort()\n",
    "    return res\n",
    "dpers = {'Maria': [40, 135, 90],'Nuria': [63, 141, 92], \\\n",
    " 'Jose': [47, 110, 59], 'Luis': [49, 146, 94], \\\n",
    " 'Oriol': [52, 130, 89], 'Carlos': [65, 125, 89], \\\n",
    " 'Pepe': [70, 130, 92] }\n",
    "assert lst_hiper(dpers, 45) == ['Maria']\n",
    "assert lst_hiper(dpers, 70) == ['Luis', 'Maria', 'Nuria']\n"
   ],
   "id": "4fbaca7d06493ab8",
   "outputs": [],
   "execution_count": 22
  },
  {
   "metadata": {
    "ExecuteTime": {
     "end_time": "2024-07-13T17:24:49.059533Z",
     "start_time": "2024-07-13T17:24:49.050529Z"
    }
   },
   "cell_type": "code",
   "source": [
    "def __nivelksang(k,lst):\n",
    "    if k <lst[0]:\n",
    "        return 'hipokalemia crítica'\n",
    "    if lst[0] <= k < lst[1] :\n",
    "        return 'hipokalemia leve'\n",
    "    if lst[1] <= k <= lst[2]:\n",
    "        return 'normal'\n",
    "    if lst[2] < k <= lst[3]:\n",
    "        return 'hiperkalemia moderada'\n",
    "    return 'hiperkalemia severa'\n",
    "\n",
    "def nivelKsang(dK, lst):\n",
    "    return {name:__nivelksang(dK[name],lst) for name in dK}\n",
    "\n",
    "\n",
    "dK1 = {'Luis': 2.2, 'Carlos': 7.0, 'Laia': 4.0, 'Mikel': 5.5, \\\n",
    "     'Jordi': 5.2, 'Anna': 3.6, 'Joe': 7.2}\n",
    "ls1 = [2.0, 3.5, 5.2, 7.0]\n",
    "dic = nivelKsang(dK1, ls1)\n",
    "#print(dic)\n",
    "assert dic == {'Luis': 'hipokalemia leve', \\\n",
    "     'Carlos': 'hiperkalemia moderada', 'Laia': 'normal', \\\n",
    "     'Mikel': 'hiperkalemia moderada', 'Jordi': 'normal', \\\n",
    "     'Anna': 'normal', 'Joe': 'hiperkalemia severa'}\n",
    "     "
   ],
   "id": "a69463bde3fa1e5c",
   "outputs": [
    {
     "name": "stdout",
     "output_type": "stream",
     "text": [
      "{'Luis': 'hipokalemia leve', 'Carlos': 'hiperkalemia moderada', 'Laia': 'normal', 'Mikel': 'hiperkalemia moderada', 'Jordi': 'normal', 'Anna': 'normal', 'Joe': 'hiperkalemia severa'}\n"
     ]
    }
   ],
   "execution_count": 30
  },
  {
   "metadata": {
    "ExecuteTime": {
     "end_time": "2024-07-14T15:05:35.684272Z",
     "start_time": "2024-07-14T15:05:35.661307Z"
    }
   },
   "cell_type": "code",
   "source": [
    "import pandas as pd\n",
    "d={'Ciudad':['Londres','Oslo','Berlin','Málaga'],'Enero':[3.4,-3.8,7.5,14.7], 'Febrero':[6.3, -5.0,4.1,12.3], 'Marzo':[10.5,5.1,12.3,19.5], 'Abril': [6.8,4.2, 13.0 , 18.4]}\n",
    "df=pd.DataFrame.from_dict(d)\n",
    "res=df.copy()\n",
    "res['Min']=df.min(1, True, True)\n",
    "res['Max']=df.max(1, True, True)\n",
    "res['Media']=df.mean(1,True, True) ##el ejercicio pedia la media pero el resultado mostraba el promedio.\n",
    "res['StdDev']=df.std(axis=1, numeric_only=True)\n",
    "res\n",
    "\n",
    "  "
   ],
   "id": "efd3877f87551754",
   "outputs": [
    {
     "data": {
      "text/plain": [
       "    Ciudad  Enero  Febrero  Marzo  Abril   Min   Max   Media    StdDev\n",
       "0  Londres    3.4      6.3   10.5    6.8   3.4  10.5   6.750  2.914904\n",
       "1     Oslo   -3.8     -5.0    5.1    4.2  -5.0   5.1   0.125  5.260783\n",
       "2   Berlin    7.5      4.1   12.3   13.0   4.1  13.0   9.225  4.201091\n",
       "3   Málaga   14.7     12.3   19.5   18.4  12.3  19.5  16.225  3.326034"
      ],
      "text/html": [
       "<div>\n",
       "<style scoped>\n",
       "    .dataframe tbody tr th:only-of-type {\n",
       "        vertical-align: middle;\n",
       "    }\n",
       "\n",
       "    .dataframe tbody tr th {\n",
       "        vertical-align: top;\n",
       "    }\n",
       "\n",
       "    .dataframe thead th {\n",
       "        text-align: right;\n",
       "    }\n",
       "</style>\n",
       "<table border=\"1\" class=\"dataframe\">\n",
       "  <thead>\n",
       "    <tr style=\"text-align: right;\">\n",
       "      <th></th>\n",
       "      <th>Ciudad</th>\n",
       "      <th>Enero</th>\n",
       "      <th>Febrero</th>\n",
       "      <th>Marzo</th>\n",
       "      <th>Abril</th>\n",
       "      <th>Min</th>\n",
       "      <th>Max</th>\n",
       "      <th>Media</th>\n",
       "      <th>StdDev</th>\n",
       "    </tr>\n",
       "  </thead>\n",
       "  <tbody>\n",
       "    <tr>\n",
       "      <th>0</th>\n",
       "      <td>Londres</td>\n",
       "      <td>3.4</td>\n",
       "      <td>6.3</td>\n",
       "      <td>10.5</td>\n",
       "      <td>6.8</td>\n",
       "      <td>3.4</td>\n",
       "      <td>10.5</td>\n",
       "      <td>6.750</td>\n",
       "      <td>2.914904</td>\n",
       "    </tr>\n",
       "    <tr>\n",
       "      <th>1</th>\n",
       "      <td>Oslo</td>\n",
       "      <td>-3.8</td>\n",
       "      <td>-5.0</td>\n",
       "      <td>5.1</td>\n",
       "      <td>4.2</td>\n",
       "      <td>-5.0</td>\n",
       "      <td>5.1</td>\n",
       "      <td>0.125</td>\n",
       "      <td>5.260783</td>\n",
       "    </tr>\n",
       "    <tr>\n",
       "      <th>2</th>\n",
       "      <td>Berlin</td>\n",
       "      <td>7.5</td>\n",
       "      <td>4.1</td>\n",
       "      <td>12.3</td>\n",
       "      <td>13.0</td>\n",
       "      <td>4.1</td>\n",
       "      <td>13.0</td>\n",
       "      <td>9.225</td>\n",
       "      <td>4.201091</td>\n",
       "    </tr>\n",
       "    <tr>\n",
       "      <th>3</th>\n",
       "      <td>Málaga</td>\n",
       "      <td>14.7</td>\n",
       "      <td>12.3</td>\n",
       "      <td>19.5</td>\n",
       "      <td>18.4</td>\n",
       "      <td>12.3</td>\n",
       "      <td>19.5</td>\n",
       "      <td>16.225</td>\n",
       "      <td>3.326034</td>\n",
       "    </tr>\n",
       "  </tbody>\n",
       "</table>\n",
       "</div>"
      ]
     },
     "execution_count": 48,
     "metadata": {},
     "output_type": "execute_result"
    }
   ],
   "execution_count": 48
  },
  {
   "metadata": {},
   "cell_type": "code",
   "outputs": [],
   "execution_count": null,
   "source": "",
   "id": "bc737256c30a51ba"
  },
  {
   "metadata": {},
   "cell_type": "markdown",
   "source": "",
   "id": "7ebcab34e1430326"
  }
 ],
 "metadata": {
  "kernelspec": {
   "display_name": "Python 3",
   "language": "python",
   "name": "python3"
  },
  "language_info": {
   "codemirror_mode": {
    "name": "ipython",
    "version": 2
   },
   "file_extension": ".py",
   "mimetype": "text/x-python",
   "name": "python",
   "nbconvert_exporter": "python",
   "pygments_lexer": "ipython2",
   "version": "2.7.6"
  }
 },
 "nbformat": 4,
 "nbformat_minor": 5
}
